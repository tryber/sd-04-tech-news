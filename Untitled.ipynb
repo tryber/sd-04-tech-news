{
 "cells": [
  {
   "cell_type": "code",
   "execution_count": 24,
   "metadata": {},
   "outputs": [],
   "source": [
    "import requests\n",
    "import time\n",
    "\n",
    "\n",
    "def fetch_content(url, timeout=3, delay=0.5):\n",
    "    time.sleep(delay)\n",
    "\n",
    "    try:\n",
    "        response = requests.get(url, timeout=timeout)\n",
    "\n",
    "    except requests.ReadTimeout:\n",
    "        response = requests.get(url, timeout=timeout)\n",
    "\n",
    "    finally:\n",
    "        return response.text if response.status_code == 200 else \"\""
   ]
  },
  {
   "cell_type": "code",
   "execution_count": 152,
   "metadata": {},
   "outputs": [],
   "source": [
    "from parsel import Selector\n",
    "import requests\n",
    "\n",
    "def scrape(fetcher=fetch_content, pages=1):\n",
    "    response = fetcher(\"https://www.tecmundo.com.br/mobilidade-urbana-smart-cities/155000-musk-tesla-carros-totalmente-autonomos.htm\")\n",
    "    selector = Selector(text=response)\n",
    "    \n",
    "    title = selector.css(\"#js-article-title::text\").get()\n",
    "    timestamp = selector.css(\"#js-article-date::attr(datetime)\").get()\n",
    "    writer = selector.css('.tec--author__info__link::text').get().strip()\n",
    "    shares_count = int(selector.css('.tec--toolbar__item::text').get().strip().split()[0], base=10)\n",
    "    comments_count = int(selector.css('.tec--toolbar__item > button::text').getall()[1].strip().split()[0], base=10)\n",
    "    summary = \"\".join(selector.css('.tec--article__body p:first-of-type *::text').getall())\n",
    "    sources = selector.css('.tec--badge::text').getall()\n",
    "    categories  = selector.css('#js-categories a::text').getall()\n",
    "    \n",
    "    for index, category in enumerate(categories):\n",
    "        categories[index] = category.strip()\n",
    "        \n",
    "    for index, source in enumerate(sources):\n",
    "        sources[index] = source.strip()\n",
    "        \n",
    "    sources = [source for source in sources if source not in categories]\n",
    "    \n",
    "    return { \n",
    "        \"title\": title,\n",
    "        \"timestamp\": timestamp,\n",
    "        \"writer\": writer,\n",
    "        \"shares_count\": shares_count,\n",
    "        \"comments_count\": comments_count,\n",
    "        \"summary\": summary,\n",
    "        \"sources\": sources,\n",
    "        \"categories\": categories\n",
    "        }"
   ]
  },
  {
   "cell_type": "code",
   "execution_count": 153,
   "metadata": {},
   "outputs": [
    {
     "name": "stdout",
     "output_type": "stream",
     "text": [
      "{'title': 'Musk: Tesla está muito perto de carros totalmente autônomos', 'timestamp': '2020-07-09T11:00:01', 'writer': 'Nilton Kleina', 'shares_count': 61, 'comments_count': 26, 'summary': 'O CEO da Tesla, Elon Musk, garantiu que a montadora está muito perto de atingir o chamado nível 5 de autonomia de sistemas de piloto automático de carros. A informação foi confirmada em uma mensagem enviada pelo executivo aos participantes da Conferência Anual de Inteligência Artificial (WAIC, na sigla em inglês). O evento aconteceu em Xangai, na China, onde a montadora comemora resultados positivos de mercado.', 'sources': ['Venture Beat'], 'categories': ['Mobilidade Urbana/Smart Cities', 'Veículos autônomos', 'Tesla', 'Elon Musk']}\n"
     ]
    }
   ],
   "source": [
    "print(scrape())"
   ]
  },
  {
   "cell_type": "code",
   "execution_count": null,
   "metadata": {},
   "outputs": [],
   "source": [
    "# url - link para acesso da notícia. Ex: \"https://www.tecmundo.com.br/mobilidade-urbana-smart-cities/155000-musk-tesla-carros-totalmente-autonomos.htm\"\n",
    "\n",
    "# title - título da notícia. Ex: \"Musk: Tesla está muito perto de carros totalmente autônomos\"\n",
    "\n",
    "# timestamp - data e hora da notícia. Ex: \"2020-07-09T11:00:00\"\n",
    "\n",
    "# writer - autor da notícia. Ex: \"Nilton Kleina\"\n",
    "\n",
    "# shares_count - número de compartilhamento da notícia. Ex: 61\n",
    "\n",
    "# comments_count - número de comentários que a notícia recebeu. Ex: 26\n",
    "\n",
    "# summary - o primeiro parágrafo da notícia. Ex:\"O CEO da Tesla, Elon Musk, garantiu que a montadora está muito perto de atingir o chamado nível 5 de autonomia de sistemas de piloto automático de carros. A informação foi confirmada em uma mensagem enviada pelo executivo aos participantes da Conferência Anual de Inteligência Artificial (WAIC, na sigla em inglês). O evento aconteceu em Xangai, na China, onde a montadora comemora resultados positivos de mercado.\"\n",
    "\n",
    "# sources - fontes da notícia. Ex: [\"Venture Beat\"]\n",
    "\n",
    "# categories - categorias que classificam a notícia. Ex: [\"Mobilidade Urbana/Smart Cities\", \"Veículos autônomos\", \"Tesla\", \"Elon Musk\"]\n",
    "\n"
   ]
  },
  {
   "cell_type": "code",
   "execution_count": null,
   "metadata": {},
   "outputs": [],
   "source": []
  },
  {
   "cell_type": "code",
   "execution_count": null,
   "metadata": {},
   "outputs": [],
   "source": []
  },
  {
   "cell_type": "code",
   "execution_count": null,
   "metadata": {},
   "outputs": [],
   "source": []
  },
  {
   "cell_type": "code",
   "execution_count": null,
   "metadata": {},
   "outputs": [],
   "source": []
  },
  {
   "cell_type": "code",
   "execution_count": null,
   "metadata": {},
   "outputs": [],
   "source": []
  },
  {
   "cell_type": "code",
   "execution_count": null,
   "metadata": {},
   "outputs": [],
   "source": []
  },
  {
   "cell_type": "code",
   "execution_count": null,
   "metadata": {},
   "outputs": [],
   "source": []
  },
  {
   "cell_type": "code",
   "execution_count": null,
   "metadata": {},
   "outputs": [],
   "source": []
  },
  {
   "cell_type": "code",
   "execution_count": null,
   "metadata": {},
   "outputs": [],
   "source": []
  },
  {
   "cell_type": "code",
   "execution_count": null,
   "metadata": {},
   "outputs": [],
   "source": []
  },
  {
   "cell_type": "code",
   "execution_count": null,
   "metadata": {},
   "outputs": [],
   "source": []
  }
 ],
 "metadata": {
  "kernelspec": {
   "display_name": "Python 3",
   "language": "python",
   "name": "python3"
  },
  "language_info": {
   "codemirror_mode": {
    "name": "ipython",
    "version": 3
   },
   "file_extension": ".py",
   "mimetype": "text/x-python",
   "name": "python",
   "nbconvert_exporter": "python",
   "pygments_lexer": "ipython3",
   "version": "3.8.5"
  }
 },
 "nbformat": 4,
 "nbformat_minor": 4
}
